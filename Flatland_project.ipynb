{
 "cells": [
  {
   "cell_type": "code",
   "execution_count": 1,
   "metadata": {},
   "outputs": [],
   "source": [
    "import os\n",
    "import time\n",
    "from datetime import datetime\n",
    "import numpy as np\n",
    "import pandas as pd\n",
    "from tensorflow.keras.callbacks import TensorBoard"
   ]
  },
  {
   "cell_type": "code",
   "execution_count": 2,
   "metadata": {},
   "outputs": [],
   "source": [
    "import os\n",
    "import numpy as np\n",
    "import pandas as pd\n",
    "from tensorflow.keras.callbacks import TensorBoard\n",
    "import tensorflow.keras as keras\n",
    "from tensorflow.keras.layers import Dense, Input, Flatten, Conv2D, BatchNormalization, Activation, Dropout, MaxPooling2D\n",
    "from tensorflow.keras.models import Sequential\n",
    "from tensorflow.keras.optimizers import Adam"
   ]
  },
  {
   "cell_type": "code",
   "execution_count": 3,
   "metadata": {},
   "outputs": [
    {
     "name": "stdout",
     "output_type": "stream",
     "text": [
      "C:\\Users\\alvij\\Python\\ai_primer\n"
     ]
    },
    {
     "data": {
      "text/plain": [
       "['.git',\n",
       " '.gitignore',\n",
       " '.ipynb_checkpoints',\n",
       " 'ai_primer',\n",
       " 'apt.txt',\n",
       " 'CNN.ipynb',\n",
       " 'data',\n",
       " 'DNN.ipynb',\n",
       " 'Dockerfile',\n",
       " 'Expand-Archive',\n",
       " 'fl',\n",
       " 'Flatland_project.ipynb',\n",
       " 'flatland_train.data',\n",
       " 'galbutDNN.ipynb',\n",
       " 'housing',\n",
       " 'img',\n",
       " 'logs',\n",
       " 'ml-latest',\n",
       " 'ml-latest-small',\n",
       " 'ml-latest-small.zip',\n",
       " 'ml-latest.zip',\n",
       " 'model.h5',\n",
       " 'Pipfile',\n",
       " 'Pipfile.lock',\n",
       " 'Project.md',\n",
       " 'Pvz.ipynb',\n",
       " 'README.md',\n",
       " 'RF.ipynb',\n",
       " 'SVD.ipynb',\n",
       " 'Untitled.ipynb',\n",
       " 'Varia.ipynb',\n",
       " 'venv',\n",
       " '_config.yml',\n",
       " '_toc.yml']"
      ]
     },
     "execution_count": 3,
     "metadata": {},
     "output_type": "execute_result"
    }
   ],
   "source": [
    "cwd = os.getcwd()\n",
    "print(cwd)\n",
    "os.listdir(os.getcwd())"
   ]
  },
  {
   "cell_type": "code",
   "execution_count": 4,
   "metadata": {},
   "outputs": [],
   "source": [
    "%load_ext tensorboard"
   ]
  },
  {
   "cell_type": "code",
   "execution_count": 5,
   "metadata": {},
   "outputs": [],
   "source": [
    "import tensorflow.keras as keras\n",
    "from tensorflow.keras.layers import Dense, Input, Flatten, Conv2D, BatchNormalization, Activation, Dropout, MaxPooling2D\n",
    "from tensorflow.keras.models import Sequential\n",
    "from tensorflow.keras.optimizers import Adam"
   ]
  },
  {
   "cell_type": "code",
   "execution_count": 6,
   "metadata": {},
   "outputs": [],
   "source": [
    "from datetime import datetime"
   ]
  },
  {
   "cell_type": "code",
   "execution_count": 7,
   "metadata": {},
   "outputs": [],
   "source": [
    "import gzip\n",
    "import pickle\n",
    "\n",
    "X, y = pickle.load(gzip.open('flatland_train.data', 'rb'))\n",
    "y[y != 0] -= 2\n",
    "X = X / 255."
   ]
  },
  {
   "cell_type": "code",
   "execution_count": 16,
   "metadata": {},
   "outputs": [
    {
     "name": "stdout",
     "output_type": "stream",
     "text": [
      "Model: \"sequential_2\"\n",
      "_________________________________________________________________\n",
      "Layer (type)                 Output Shape              Param #   \n",
      "=================================================================\n",
      "flatten_2 (Flatten)          (None, 2500)              0         \n",
      "_________________________________________________________________\n",
      "dense_5 (Dense)              (None, 1024)              2561024   \n",
      "_________________________________________________________________\n",
      "dense_6 (Dense)              (None, 512)               524800    \n",
      "_________________________________________________________________\n",
      "dense_7 (Dense)              (None, 256)               131328    \n",
      "=================================================================\n",
      "Total params: 3,217,152\n",
      "Trainable params: 3,217,152\n",
      "Non-trainable params: 0\n",
      "_________________________________________________________________\n"
     ]
    }
   ],
   "source": [
    "\n",
    "model = keras.models.Sequential()\n",
    "model.add(keras.layers.Flatten(input_shape=[50, 50]))\n",
    "model.add(keras.layers.Dense(1024, activation=\"relu\"))\n",
    "model.add(keras.layers.Dense(512, activation=\"sigmoid\"))\n",
    "model.add(keras.layers.Dense(256, activation=\"softmax\"))\n",
    "model.compile(loss=\"sparse_categorical_crossentropy\",\n",
    "              optimizer=\"Adam\",\n",
    "              metrics=[\"accuracy\"])\n",
    "model.summary()\n"
   ]
  },
  {
   "cell_type": "code",
   "execution_count": 31,
   "metadata": {},
   "outputs": [
    {
     "name": "stdout",
     "output_type": "stream",
     "text": [
      "Epoch 1/10\n",
      "250/250 [==============================] - 7s 27ms/step - loss: 0.1954 - accuracy: 0.1406 - val_loss: 0.4488 - val_accuracy: 0.1905\n",
      "Epoch 2/10\n",
      "250/250 [==============================] - 21s 85ms/step - loss: 0.1735 - accuracy: 0.1427 - val_loss: 0.4998 - val_accuracy: 0.1975\n",
      "Epoch 3/10\n",
      "250/250 [==============================] - 13s 54ms/step - loss: 0.1557 - accuracy: 0.1423 - val_loss: 0.4706 - val_accuracy: 0.1370\n",
      "Epoch 4/10\n",
      "250/250 [==============================] - 8s 34ms/step - loss: 0.1541 - accuracy: 0.1425 - val_loss: 0.5576 - val_accuracy: 0.1900\n",
      "Epoch 5/10\n",
      "250/250 [==============================] - 10s 39ms/step - loss: 0.2007 - accuracy: 0.1389 - val_loss: 0.4983 - val_accuracy: 0.1380\n",
      "Epoch 6/10\n",
      "250/250 [==============================] - 10s 38ms/step - loss: 0.1562 - accuracy: 0.1398 - val_loss: 0.4690 - val_accuracy: 0.1315\n",
      "Epoch 7/10\n",
      "250/250 [==============================] - 10s 39ms/step - loss: 0.1590 - accuracy: 0.1417 - val_loss: 0.4307 - val_accuracy: 0.1595\n",
      "Epoch 8/10\n",
      "250/250 [==============================] - 11s 45ms/step - loss: 0.1352 - accuracy: 0.1392 - val_loss: 0.5451 - val_accuracy: 0.2010\n",
      "Epoch 9/10\n",
      "250/250 [==============================] - 10s 42ms/step - loss: 0.1183 - accuracy: 0.1414 - val_loss: 0.4781 - val_accuracy: 0.1570\n",
      "Epoch 10/10\n",
      "250/250 [==============================] - 9s 38ms/step - loss: 0.1096 - accuracy: 0.1402 - val_loss: 0.4819 - val_accuracy: 0.1600\n"
     ]
    }
   ],
   "source": [
    "loss = model.fit(X, y, epochs=10, validation_split=0.2)  #treniruojam"
   ]
  },
  {
   "cell_type": "code",
   "execution_count": 32,
   "metadata": {},
   "outputs": [],
   "source": [
    "model.save('model.h5')"
   ]
  },
  {
   "cell_type": "code",
   "execution_count": 33,
   "metadata": {},
   "outputs": [
    {
     "data": {
      "text/plain": [
       "<matplotlib.axes._subplots.AxesSubplot at 0x246c8324b20>"
      ]
     },
     "execution_count": 33,
     "metadata": {},
     "output_type": "execute_result"
    },
    {
     "data": {
      "image/png": "[encoded data removed]",
      "text/plain": [
       "<Figure size 432x288 with 1 Axes>"
      ]
     },
     "metadata": {
      "needs_background": "light"
     },
     "output_type": "display_data"
    }
   ],
   "source": [
    "pd.DataFrame(loss.history).plot()"
   ]
  },
  {
   "cell_type": "code",
   "execution_count": 34,
   "metadata": {},
   "outputs": [
    {
     "data": {
      "text/plain": [
       "<matplotlib.axes._subplots.AxesSubplot at 0x246c7f0aac0>"
      ]
     },
     "execution_count": 34,
     "metadata": {},
     "output_type": "execute_result"
    },
    {
     "data": {
      "image/png": "[encoded data removed]",
      "text/plain": [
       "<Figure size 432x288 with 1 Axes>"
      ]
     },
     "metadata": {
      "needs_background": "light"
     },
     "output_type": "display_data"
    }
   ],
   "source": [
    "pd.DataFrame(loss.history)[['loss','val_loss']].plot()"
   ]
  },
  {
   "cell_type": "code",
   "execution_count": 35,
   "metadata": {},
   "outputs": [
    {
     "name": "stdout",
     "output_type": "stream",
     "text": [
      "Accuracy on test set - 93.42%\n"
     ]
    }
   ],
   "source": [
    "pred = model.predict(X).argmax(axis=1)\n",
    "print('Accuracy on test set - {0:.02%}'.format((pred == y).mean()))"
   ]
  },
  {
   "cell_type": "code",
   "execution_count": 36,
   "metadata": {},
   "outputs": [],
   "source": [
    "model.save('model.h5')"
   ]
  },
  {
   "cell_type": "code",
   "execution_count": 37,
   "metadata": {},
   "outputs": [
    {
     "data": {
      "text/plain": [
       "0.9342"
      ]
     },
     "execution_count": 37,
     "metadata": {},
     "output_type": "execute_result"
    }
   ],
   "source": [
    "import gzip\n",
    "import pickle\n",
    "\n",
    "def evaluate(path, model):\n",
    "    X, y = pickle.load(gzip.open(path, 'rb'))\n",
    "    y[y != 0] -= 2\n",
    "    X = X / 255.\n",
    "    acc = np.mean(model(X).numpy().argmax(axis=1) == y)\n",
    "    return acc\n",
    "\n",
    "model = keras.models.load_model('model.h5')\n",
    "evaluate('flatland_train.data', model)"
   ]
  },
  {
   "cell_type": "code",
   "execution_count": null,
   "metadata": {},
   "outputs": [],
   "source": []
  }
 ],
 "metadata": {
  "kernelspec": {
   "display_name": "Python 3",
   "language": "python",
   "name": "python3"
  },
  "language_info": {
   "codemirror_mode": {
    "name": "ipython",
    "version": 3
   },
   "file_extension": ".py",
   "mimetype": "text/x-python",
   "name": "python",
   "nbconvert_exporter": "python",
   "pygments_lexer": "ipython3",
   "version": "3.8.3"
  }
 },
 "nbformat": 4,
 "nbformat_minor": 4
}
